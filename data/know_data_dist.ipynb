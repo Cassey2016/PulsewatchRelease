{
 "cells": [
  {
   "cell_type": "code",
   "execution_count": null,
   "metadata": {},
   "outputs": [],
   "source": [
    "# First, get all UIDs and GT.\n",
    "import glob\n",
    "import os\n",
    "import pandas as pd\n",
    "import sys\n",
    "# For utils.py\n",
    "sys.path.append('/mnt/r/ENGR_Chon/Dong/Github_private/Pulsewatch_labeling/ResNet_classification/experiments/try_02_understand_PACPVC_dist')\n",
    "import utils\n",
    "path_GT = r'/mnt/r/ENGR_Chon/NIH_Pulsewatch_Database/Adjudication_UConn/final_attemp_4_1_Dong_Ohm_2024_02_18_copy'\n",
    "\n",
    "# Get the segment name:\n",
    "filename_GT = glob.glob(os.path.join(path_GT,'*.csv'))\n",
    "all_UIDs_GT = [xx.split('/')[-1] for xx in filename_GT]\n",
    "print('Number of all adjudicated UIDs:',len(all_UIDs_GT))\n",
    "\n",
    "df_all = []\n",
    "for new_GT_filename in filename_GT:\n",
    "# if True:\n",
    "    # new_GT_filename = filename_GT[0]\n",
    "    UID = new_GT_filename.split('/')[-1][:3]\n",
    "    # '011_final_attemp_4_1_Dong.csv'\n",
    "    df_new_GT = pd.read_csv(new_GT_filename)\n",
    "    df_new_GT_trim = df_new_GT.loc[(df_new_GT['final_AF_GT_20230921'] == 0) | \\\n",
    "                                    (df_new_GT['final_AF_GT_20230921'] == 1) | \\\n",
    "                                    (df_new_GT['final_AF_GT_20230921'] == 2) | \\\n",
    "                                    (df_new_GT['final_AF_GT_20230921'] == 3)]\n",
    "\n",
    "    df_new_GT_trim['final_AF_GT_20230921'] = pd.to_numeric(df_new_GT_trim['final_AF_GT_20230921'], downcast='integer')\n",
    "\n",
    "    if len(df_all) < 1:\n",
    "        df_all = df_new_GT_trim.copy()\n",
    "    else:\n",
    "        df_all = pd.concat([df_all,df_new_GT_trim])\n",
    "    print('Finished',UID)\n",
    "\n",
    "df_all['UID'] = df_all['table_file_name'].str[:3] # Create a column for UIDs.\n"
   ]
  },
  {
   "cell_type": "code",
   "execution_count": null,
   "metadata": {},
   "outputs": [],
   "source": [
    "# Get the UID distribution for PACPVC.\n",
    "df_count_PACPVC = utils.my_get_distbution_df(class_looking = 2,df_all = df_all)\n",
    "# Get the UID distribution for AF.\n",
    "df_count_AF = utils.my_get_distbution_df(class_looking = 1,df_all = df_all)\n",
    "# Get the UID distribution for NSR.\n",
    "df_count_NSR = utils.my_get_distbution_df(class_looking = 0,df_all = df_all)\n",
    "# Get the UID distribution for SVT.\n",
    "df_count_SVT = utils.my_get_distbution_df(class_looking = 3,df_all = df_all)"
   ]
  },
  {
   "cell_type": "code",
   "execution_count": null,
   "metadata": {},
   "outputs": [],
   "source": [
    "sum(df_count_SVT.count_seg)"
   ]
  },
  {
   "cell_type": "code",
   "execution_count": null,
   "metadata": {},
   "outputs": [],
   "source": [
    "# Then know each fold UIDs.\n",
    "UIDs_fold_1_PACPVC = ['110','419','408','053','113','054','039','080','120','064','104','042','069','089','007','090','026','022','093']\n",
    "UIDs_fold_2_PACPVC = ['075','100','045','005','112','086','013','073','002','028','327','052','068','021','087','078','070','038','029']\n",
    "\n",
    "# UID info for AF. 03/30/2024.\n",
    "UIDs_fold_1_AF = ['110','419','408','423','413','416','415','400','409','405','321','305','318','320','322','310','422']\n",
    "UIDs_fold_2_AF = ['075','017','410','402','421','406','414','407','420','302','307','311','301','329','319','324','312','306']\n",
    "\n",
    "# UID info for NSR. 03/30/2024.\n",
    "UIDs_fold_1_NSR = ['024','057','037']\n",
    "UIDs_fold_2_NSR = []\n",
    "\n",
    "# All UIDs:\n",
    "UIDs_fold_1 = list(set(UIDs_fold_1_PACPVC+UIDs_fold_1_AF+UIDs_fold_1_NSR))\n",
    "UIDs_fold_2 = list(set(UIDs_fold_2_PACPVC+UIDs_fold_2_AF+UIDs_fold_2_NSR))\n",
    "\n",
    "# Keep the fold-1 then fold-2 sequence for pie chart.\n",
    "\n"
   ]
  }
 ],
 "metadata": {
  "kernelspec": {
   "display_name": "CS330_torch",
   "language": "python",
   "name": "python3"
  },
  "language_info": {
   "codemirror_mode": {
    "name": "ipython",
    "version": 3
   },
   "file_extension": ".py",
   "mimetype": "text/x-python",
   "name": "python",
   "nbconvert_exporter": "python",
   "pygments_lexer": "ipython3",
   "version": "3.11.5"
  }
 },
 "nbformat": 4,
 "nbformat_minor": 2
}
