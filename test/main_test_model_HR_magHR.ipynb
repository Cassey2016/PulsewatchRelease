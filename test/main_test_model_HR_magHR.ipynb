{
 "cells": [
  {
   "cell_type": "code",
   "execution_count": null,
   "metadata": {
    "id": "Jwl-0Snjwdtn",
    "vscode": {
     "languageId": "plaintext"
    }
   },
   "outputs": [],
   "source": [
    "# Step 0-0: Map personal Google drive to here.\n",
    "from google.colab import drive\n",
    "drive.mount('/content/drive')"
   ]
  },
  {
   "cell_type": "code",
   "execution_count": null,
   "metadata": {
    "id": "djuEyLFywjB4"
   },
   "outputs": [],
   "source": [
    "path_your_repo = r'/content/drive/MyDrive/Public_Datasets/PulsewatchRelease/GitHub/PulsewatchRelease'\n",
    "path_subfolder = r'test'\n",
    "filename_code = 'run_test_model_HR_magHR.py'\n",
    "import os\n",
    "code_to_run = os.path.join(path_your_repo,path_subfolder,filename_code)"
   ]
  },
  {
   "cell_type": "code",
   "execution_count": null,
   "metadata": {
    "id": "YGq98glbwdto",
    "vscode": {
     "languageId": "plaintext"
    }
   },
   "outputs": [],
   "source": [
    "# Test your model.\n",
    "!python3 {code_to_run}"
   ]
  }
 ],
 "metadata": {
  "colab": {
   "provenance": []
  },
  "language_info": {
   "name": "python"
  }
 },
 "nbformat": 4,
 "nbformat_minor": 0
}
