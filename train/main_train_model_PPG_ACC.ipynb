{
 "cells": [
  {
   "cell_type": "code",
   "execution_count": null,
   "metadata": {
    "id": "ZLfndeHHQSZd",
    "vscode": {
     "languageId": "plaintext"
    }
   },
   "outputs": [],
   "source": [
    "# Step 0-0: Map personal Google drive to here.\n",
    "from google.colab import drive\n",
    "drive.mount('/content/drive')"
   ]
  },
  {
   "cell_type": "code",
   "execution_count": null,
   "metadata": {
    "id": "pWLTvpvaQVAB"
   },
   "outputs": [],
   "source": [
    "path_your_repo = r'/content/drive/MyDrive/Public_Datasets/PulsewatchRelease/GitHub/PulsewatchRelease'\n",
    "path_subfolder = r'train'\n",
    "filename_code = 'run_train_model_PPG_ACC.py'\n",
    "import os\n",
    "code_to_run = os.path.join(path_your_repo,path_subfolder,filename_code)"
   ]
  },
  {
   "cell_type": "code",
   "execution_count": null,
   "metadata": {
    "id": "EcJINT62QSZn",
    "vscode": {
     "languageId": "plaintext"
    }
   },
   "outputs": [],
   "source": [
    "# Run the main code.\n",
    "!python3 {code_to_run}"
   ]
  }
 ],
 "metadata": {
  "colab": {
   "provenance": []
  },
  "language_info": {
   "name": "python"
  }
 },
 "nbformat": 4,
 "nbformat_minor": 0
}
